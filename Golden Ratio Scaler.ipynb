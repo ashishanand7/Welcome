{
 "cells": [
  {
   "cell_type": "markdown",
   "metadata": {
    "toc": true
   },
   "source": [
    "<h1>Table of Contents<span class=\"tocSkip\"></span></h1>\n",
    "<div class=\"toc\"><ul class=\"toc-item\"></ul></div>"
   ]
  },
  {
   "cell_type": "code",
   "execution_count": 1,
   "metadata": {},
   "outputs": [
    {
     "name": "stdout",
     "output_type": "stream",
     "text": [
      "Enter diagonal and aspect ratio\n",
      "6.4 19.5 9\n"
     ]
    }
   ],
   "source": [
    "print(\"Enter diagonal and aspect ratio\")\n",
    "a,b,c=map(float,input().split())"
   ]
  },
  {
   "cell_type": "code",
   "execution_count": 2,
   "metadata": {},
   "outputs": [
    {
     "name": "stdout",
     "output_type": "stream",
     "text": [
      "The 16:9 diagonal is   5.470496378145793 inches\n",
      "Area is 100.54676979512196 sq.cm\n"
     ]
    }
   ],
   "source": [
    "d=9/c\n",
    "c=c*d\n",
    "b=b*d\n",
    "if b>=16:\n",
    "    x=a**2/(b**2+c**2)\n",
    "else:\n",
    "    e=16/b\n",
    "    b=b*e\n",
    "    c=c*e\n",
    "    x=a**2/(b**2+c**2)\n",
    "print(\"The 16:9 diagonal is  \",(337*x)**0.5,\"inches\")\n",
    "print(\"Area is\",b*c*x*(2.54**2),\"sq.cm\")"
   ]
  },
  {
   "cell_type": "code",
   "execution_count": 15,
   "metadata": {},
   "outputs": [
    {
     "data": {
      "text/plain": [
       "68.12209732818158"
      ]
     },
     "execution_count": 15,
     "metadata": {},
     "output_type": "execute_result"
    }
   ],
   "source": [
    "c*(x**0.5)*2.54*10"
   ]
  }
 ],
 "metadata": {
  "kernelspec": {
   "display_name": "Python 3",
   "language": "python",
   "name": "python3"
  },
  "language_info": {
   "codemirror_mode": {
    "name": "ipython",
    "version": 3
   },
   "file_extension": ".py",
   "mimetype": "text/x-python",
   "name": "python",
   "nbconvert_exporter": "python",
   "pygments_lexer": "ipython3",
   "version": "3.6.4"
  },
  "toc": {
   "base_numbering": 1,
   "nav_menu": {},
   "number_sections": false,
   "sideBar": false,
   "skip_h1_title": false,
   "title_cell": "Table of Contents",
   "title_sidebar": "Contents",
   "toc_cell": true,
   "toc_position": {},
   "toc_section_display": true,
   "toc_window_display": false
  }
 },
 "nbformat": 4,
 "nbformat_minor": 2
}
